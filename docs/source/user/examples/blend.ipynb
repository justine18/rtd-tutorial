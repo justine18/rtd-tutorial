{
 "cells": [
  {
   "cell_type": "markdown",
   "metadata": {},
   "source": [
    "# Blend"
   ]
  },
  {
   "cell_type": "code",
   "execution_count": null,
   "metadata": {},
   "outputs": [],
   "source": [
    "# Install dependencies\n",
    "! pip install -q gamspy"
   ]
  },
  {
   "cell_type": "code",
   "execution_count": 1,
   "metadata": {},
   "outputs": [],
   "source": [
    "from gamspy import Set, Parameter, Variable, Equation, Model, Container\n",
    "from gamspy import Sum, Sense\n",
    "import numpy as np"
   ]
  },
  {
   "cell_type": "code",
   "execution_count": 2,
   "metadata": {},
   "outputs": [],
   "source": [
    "def main():\n",
    "    m = Container()\n",
    "\n",
    "    # Set\n",
    "    alloy = Set(\n",
    "        m, name=\"alloy\", records=[\"a\", \"b\", \"c\", \"d\", \"e\", \"f\", \"g\", \"h\", \"i\"]\n",
    "    )\n",
    "    elem = Set(m, name=\"elem\", records=[\"lead\", \"zinc\", \"tin\"])\n",
    "\n",
    "    # Data\n",
    "    compdat = Parameter(\n",
    "        m,\n",
    "        name=\"compdat\",\n",
    "        domain=[elem, alloy],\n",
    "        records=np.array(\n",
    "            [\n",
    "                [10, 10, 40, 60, 30, 30, 30, 50, 20],\n",
    "                [10, 30, 50, 30, 30, 40, 20, 40, 30],\n",
    "                [80, 60, 10, 10, 40, 30, 50, 10, 50],\n",
    "            ]\n",
    "        ),\n",
    "    )\n",
    "    price = Parameter(\n",
    "        m,\n",
    "        name=\"price\",\n",
    "        domain=[alloy],\n",
    "        records=np.array([4.1, 4.3, 5.8, 6.0, 7.6, 7.5, 7.3, 6.9, 7.3]),\n",
    "    )\n",
    "    rb = Parameter(m, name=\"rb\", domain=[elem], records=np.array([30, 30, 40]))\n",
    "\n",
    "    # Variable\n",
    "    v = Variable(m, name=\"v\", domain=[alloy], type=\"Positive\")\n",
    "\n",
    "    # Equation\n",
    "    pc = Equation(m, name=\"pc\", domain=[elem])\n",
    "    mb = Equation(m, name=\"mb\")\n",
    "\n",
    "    pc[elem] = Sum(alloy, compdat[elem, alloy] * v[alloy]) == rb[elem]\n",
    "    mb.expr = Sum(alloy, v[alloy]) == 1\n",
    "\n",
    "    b1 = Model(\n",
    "        m,\n",
    "        name=\"b1\",\n",
    "        equations=[pc],\n",
    "        problem=\"LP\",\n",
    "        sense=Sense.MIN,\n",
    "        objective=Sum(alloy, price[alloy] * v[alloy]),\n",
    "    )\n",
    "    b2 = Model(\n",
    "        m,\n",
    "        name=\"b2\",\n",
    "        equations=[pc, mb],\n",
    "        problem=\"LP\",\n",
    "        sense=Sense.MIN,\n",
    "        objective=Sum(alloy, price[alloy] * v[alloy]),\n",
    "    )\n",
    "\n",
    "    report = Parameter(m, name=\"report\", domain=[alloy, \"*\"])\n",
    "\n",
    "    b1.solve()\n",
    "\n",
    "    report[alloy, \"blend-1\"] = v.l[alloy]\n",
    "    b2.solve()\n",
    "    report[alloy, \"blend-2\"] = v.l[alloy]\n",
    "\n",
    "    print(report.pivot())"
   ]
  },
  {
   "cell_type": "code",
   "execution_count": 3,
   "metadata": {},
   "outputs": [
    {
     "name": "stdout",
     "output_type": "stream",
     "text": [
      "   blend-1  blend-2\n",
      "b      0.6      0.6\n",
      "d      0.4      0.4\n"
     ]
    }
   ],
   "source": [
    "if __name__ == \"__main__\":\n",
    "    main()"
   ]
  }
 ],
 "metadata": {
  "kernelspec": {
   "display_name": "test",
   "language": "python",
   "name": "python3"
  },
  "language_info": {
   "codemirror_mode": {
    "name": "ipython",
    "version": 3
   },
   "file_extension": ".py",
   "mimetype": "text/x-python",
   "name": "python",
   "nbconvert_exporter": "python",
   "pygments_lexer": "ipython3",
   "version": "3.11.5"
  },
  "orig_nbformat": 4
 },
 "nbformat": 4,
 "nbformat_minor": 2
}
